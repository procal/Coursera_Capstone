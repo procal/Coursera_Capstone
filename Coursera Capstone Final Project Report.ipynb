{
 "cells": [
  {
   "cell_type": "markdown",
   "metadata": {},
   "source": [
    "# Applied Datascience Final Project"
   ]
  },
  {
   "cell_type": "markdown",
   "metadata": {},
   "source": [
    "## Battle of the Neighbourhoods"
   ]
  },
  {
   "cell_type": "markdown",
   "metadata": {},
   "source": [
    "## 1. Introduction"
   ]
  },
  {
   "cell_type": "markdown",
   "metadata": {},
   "source": [
    "Moving from one country, city or neighbourhood to another is a common problem we have to deal with at some point in our lives whether for personal, work or other reasons.  We often make quite basic enquiries into the positives and negatives of our new neighbourhood before moving but today we have detailed objective information about neighbourhoods which can be leveraged to ensure it meets our criteria in terms of local conveniences, purchase and rental prices, proximity to schools and more.  Often though, we're leaving a familiar and comfortable neighbourhood we're we've been from some time and are looking for something similar to what we know.\n",
    "\n",
    "The purpose of this project is to characterise the neighbourhoods of New York and Toronto and classify them as a means of gaining insight into their similarity against key metrics often considered when moving.  In this way, someone theoretically moving from their favourite neighbourhood in New York can instantly narrow their search to similar neighbourhoods in Toronto."
   ]
  },
  {
   "cell_type": "markdown",
   "metadata": {},
   "source": [
    "## 2. Methodology"
   ]
  },
  {
   "cell_type": "markdown",
   "metadata": {},
   "source": [
    "### 2.1 Data"
   ]
  },
  {
   "cell_type": "markdown",
   "metadata": {},
   "source": [
    "To be able to generate these insights, data on the various neighbourhoods and postcodes within both New York and Toronto will be required.  This has already been provided through the Applied Data Science coursework as follows:\n",
    "\n",
    "New York Neighbourhoods - https://geo.nyu.edu/catalog/nyu_2451_34572 <br>\n",
    "Toronto Neighbourhoods - https://en.wikipedia.org/wiki/List_of_postal_codes_of_Canada:_M\n",
    "\n",
    "Furthermore, for the characterisation of these neighbourhoods, data on local venues and other objective metrics describing the neighbourhood will be required and can be retrieved from the Foursquare API.  An example of the Foursquare API output processed into tabular format is as follows:\n",
    "\n",
    "<img src=\"foursquare_output.jpg\">\n",
    "\n",
    "The Foursquare API requires latitude and longitude as an input to determine the features within a specified search radius.  It is therefore necessary to map the New York and Toronto neighbourhood postcode data to their equivalent latitude and longitude.  This requires the use of Python's `geopy` package which acts as a client for several popular web-based geocoding services.  For this project we will use the Nominatim service.\n"
   ]
  },
  {
   "cell_type": "code",
   "execution_count": null,
   "metadata": {},
   "outputs": [],
   "source": []
  }
 ],
 "metadata": {
  "kernelspec": {
   "display_name": "Python 3",
   "language": "python",
   "name": "python3"
  },
  "language_info": {
   "codemirror_mode": {
    "name": "ipython",
    "version": 3
   },
   "file_extension": ".py",
   "mimetype": "text/x-python",
   "name": "python",
   "nbconvert_exporter": "python",
   "pygments_lexer": "ipython3",
   "version": "3.8.3"
  }
 },
 "nbformat": 4,
 "nbformat_minor": 1
}
